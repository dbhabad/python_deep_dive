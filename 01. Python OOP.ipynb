{
 "cells": [
  {
   "cell_type": "markdown",
   "id": "783c8591",
   "metadata": {},
   "source": [
    "# Class and Objects"
   ]
  },
  {
   "cell_type": "code",
   "execution_count": 53,
   "id": "611570fc",
   "metadata": {},
   "outputs": [],
   "source": [
    "class sample:\n",
    "    name = 'Sample'\n",
    "    def sample_fun(s):\n",
    "        print('This line is printed in function..!!')"
   ]
  },
  {
   "cell_type": "code",
   "execution_count": 54,
   "id": "b0651bbe",
   "metadata": {},
   "outputs": [
    {
     "name": "stdout",
     "output_type": "stream",
     "text": [
      "This line is printed in function..!!\n"
     ]
    }
   ],
   "source": [
    "obj = sample()\n",
    "\n",
    "obj.sample_fun()"
   ]
  },
  {
   "cell_type": "code",
   "execution_count": 5,
   "id": "0640d2b6",
   "metadata": {},
   "outputs": [
    {
     "data": {
      "text/plain": [
       "__main__.sample"
      ]
     },
     "execution_count": 5,
     "metadata": {},
     "output_type": "execute_result"
    }
   ],
   "source": [
    "type(obj)"
   ]
  },
  {
   "cell_type": "code",
   "execution_count": 6,
   "id": "3eeed9bd",
   "metadata": {},
   "outputs": [
    {
     "ename": "NameError",
     "evalue": "name 'sample_fun' is not defined",
     "output_type": "error",
     "traceback": [
      "\u001b[1;31m---------------------------------------------------------------------------\u001b[0m",
      "\u001b[1;31mNameError\u001b[0m                                 Traceback (most recent call last)",
      "\u001b[1;32m~\\AppData\\Local\\Temp\\ipykernel_19092\\4090323935.py\u001b[0m in \u001b[0;36m<module>\u001b[1;34m\u001b[0m\n\u001b[1;32m----> 1\u001b[1;33m \u001b[0msample_fun\u001b[0m\u001b[1;33m(\u001b[0m\u001b[1;33m)\u001b[0m\u001b[1;33m\u001b[0m\u001b[1;33m\u001b[0m\u001b[0m\n\u001b[0m",
      "\u001b[1;31mNameError\u001b[0m: name 'sample_fun' is not defined"
     ]
    }
   ],
   "source": [
    "sample_fun() # will not work"
   ]
  },
  {
   "cell_type": "code",
   "execution_count": 14,
   "id": "6c1a0ffb",
   "metadata": {},
   "outputs": [
    {
     "data": {
      "text/plain": [
       "'Sample'"
      ]
     },
     "execution_count": 14,
     "metadata": {},
     "output_type": "execute_result"
    }
   ],
   "source": [
    "obj.name"
   ]
  },
  {
   "cell_type": "code",
   "execution_count": 84,
   "id": "412cae54",
   "metadata": {},
   "outputs": [
    {
     "name": "stdout",
     "output_type": "stream",
     "text": [
      "This is printed from constructor..!!\n",
      "This is printed from destructor..!!\n",
      "done\n"
     ]
    }
   ],
   "source": [
    "class dog:\n",
    "    breed = 'Beagle'\n",
    "    def __init__(self, name, age):\n",
    "        self.name = name\n",
    "        self.age = age\n",
    "        print('This is printed from constructor..!!')\n",
    "    def speaks(self):\n",
    "        print('{} barks and it is {} years old..!!'.format(self.name, self.age))\n",
    "        print('Dog says boww..!!')\n",
    "    def __del__(self):\n",
    "        print('This is printed from destructor..!!')\n",
    "        \n",
    "d1 = dog('Max', 5)\n",
    "print('done')"
   ]
  },
  {
   "cell_type": "code",
   "execution_count": 82,
   "id": "aad7f381",
   "metadata": {},
   "outputs": [
    {
     "name": "stdout",
     "output_type": "stream",
     "text": [
      "This is printed from constructor..!!\n",
      "This is printed from destructor..!!\n"
     ]
    }
   ],
   "source": []
  },
  {
   "cell_type": "code",
   "execution_count": 83,
   "id": "61cd3d32",
   "metadata": {},
   "outputs": [
    {
     "name": "stdout",
     "output_type": "stream",
     "text": [
      "Max barks and it is 5 years old..!!\n",
      "Dog says boww..!!\n"
     ]
    }
   ],
   "source": [
    "d1.speaks()"
   ]
  },
  {
   "cell_type": "code",
   "execution_count": 65,
   "id": "0a8f5afb",
   "metadata": {},
   "outputs": [
    {
     "name": "stdout",
     "output_type": "stream",
     "text": [
      "Beagle\n",
      "Max\n",
      "5\n"
     ]
    }
   ],
   "source": [
    "d1 = dog('Max', 5)\n",
    "print(d1.breed)\n",
    "print(d1.name)\n",
    "print(d1.age)"
   ]
  },
  {
   "cell_type": "code",
   "execution_count": 66,
   "id": "911ea507",
   "metadata": {},
   "outputs": [
    {
     "name": "stdout",
     "output_type": "stream",
     "text": [
      "Beagle\n",
      "Bob\n",
      "4\n"
     ]
    }
   ],
   "source": [
    "d2 = dog('Bob', 4)\n",
    "print(d2.breed)\n",
    "print(d2.name)\n",
    "print(d2.age)"
   ]
  },
  {
   "cell_type": "code",
   "execution_count": 50,
   "id": "3105150f",
   "metadata": {},
   "outputs": [
    {
     "name": "stdout",
     "output_type": "stream",
     "text": [
      "Max barks and it is 5 years old..!!\n",
      "Dog says boww..!!\n",
      "Bob barks and it is 4 years old..!!\n",
      "Dog says boww..!!\n"
     ]
    }
   ],
   "source": [
    "d1.speaks()\n",
    "d2.speaks()"
   ]
  },
  {
   "cell_type": "code",
   "execution_count": 69,
   "id": "b84db8c7",
   "metadata": {},
   "outputs": [
    {
     "name": "stdout",
     "output_type": "stream",
     "text": [
      "Beagle\n"
     ]
    }
   ],
   "source": [
    "print(d1.breed)"
   ]
  },
  {
   "cell_type": "code",
   "execution_count": 70,
   "id": "0594b68f",
   "metadata": {},
   "outputs": [
    {
     "name": "stdout",
     "output_type": "stream",
     "text": [
      "Beagle\n"
     ]
    }
   ],
   "source": [
    "print(d2.breed)"
   ]
  },
  {
   "cell_type": "code",
   "execution_count": 71,
   "id": "93608121",
   "metadata": {},
   "outputs": [
    {
     "name": "stdout",
     "output_type": "stream",
     "text": [
      "Labrador\n",
      "Beagle\n"
     ]
    }
   ],
   "source": [
    "d1.breed = 'Labrador'\n",
    "print(d1.breed)\n",
    "print(d2.breed)"
   ]
  },
  {
   "cell_type": "code",
   "execution_count": 75,
   "id": "1a3faa5f",
   "metadata": {},
   "outputs": [
    {
     "name": "stdout",
     "output_type": "stream",
     "text": [
      "Labrador\n",
      "Labrador\n"
     ]
    }
   ],
   "source": [
    "dog.breed = 'Labrador'\n",
    "print(d1.breed)\n",
    "print(d2.breed)"
   ]
  },
  {
   "cell_type": "markdown",
   "id": "da9c52d3",
   "metadata": {},
   "source": [
    "# Inheritance "
   ]
  },
  {
   "cell_type": "markdown",
   "id": "83684e5f",
   "metadata": {},
   "source": [
    "1. Single Inheritance\n",
    "2. Multiple Inheritance\n",
    "3. Multilevel Inheritance\n",
    "4. Hirarchical Inheritance\n",
    "5. Hybrid Inheritance"
   ]
  },
  {
   "cell_type": "code",
   "execution_count": 92,
   "id": "feb8a91a",
   "metadata": {},
   "outputs": [
    {
     "name": "stdout",
     "output_type": "stream",
     "text": [
      "Multiplication is:  200\n",
      "Addition is:  300\n"
     ]
    },
    {
     "ename": "AttributeError",
     "evalue": "'Base' object has no attribute 'mul'",
     "output_type": "error",
     "traceback": [
      "\u001b[1;31m---------------------------------------------------------------------------\u001b[0m",
      "\u001b[1;31mAttributeError\u001b[0m                            Traceback (most recent call last)",
      "\u001b[1;32m~\\AppData\\Local\\Temp\\ipykernel_19092\\80770053.py\u001b[0m in \u001b[0;36m<module>\u001b[1;34m\u001b[0m\n\u001b[0;32m     17\u001b[0m \u001b[0mb1\u001b[0m\u001b[1;33m.\u001b[0m\u001b[0madd\u001b[0m\u001b[1;33m(\u001b[0m\u001b[1;36m100\u001b[0m\u001b[1;33m,\u001b[0m \u001b[1;36m200\u001b[0m\u001b[1;33m)\u001b[0m\u001b[1;33m\u001b[0m\u001b[1;33m\u001b[0m\u001b[0m\n\u001b[0;32m     18\u001b[0m \u001b[1;33m\u001b[0m\u001b[0m\n\u001b[1;32m---> 19\u001b[1;33m \u001b[0mb1\u001b[0m\u001b[1;33m.\u001b[0m\u001b[0mmul\u001b[0m\u001b[1;33m(\u001b[0m\u001b[1;36m10\u001b[0m\u001b[1;33m,\u001b[0m \u001b[1;36m20\u001b[0m\u001b[1;33m)\u001b[0m \u001b[1;31m## error\u001b[0m\u001b[1;33m\u001b[0m\u001b[1;33m\u001b[0m\u001b[0m\n\u001b[0m\u001b[0;32m     20\u001b[0m \u001b[0mc1\u001b[0m\u001b[1;33m.\u001b[0m\u001b[0madd\u001b[0m\u001b[1;33m(\u001b[0m\u001b[1;36m10\u001b[0m\u001b[1;33m,\u001b[0m \u001b[1;36m20\u001b[0m\u001b[1;33m)\u001b[0m  \u001b[1;31m# error\u001b[0m\u001b[1;33m\u001b[0m\u001b[1;33m\u001b[0m\u001b[0m\n",
      "\u001b[1;31mAttributeError\u001b[0m: 'Base' object has no attribute 'mul'"
     ]
    }
   ],
   "source": [
    "# single inheritance\n",
    "class Base:\n",
    "    def add(self, a, b):\n",
    "        print('Addition is: ', a + b)\n",
    "    def sub(self, a, b):\n",
    "        print('Subtraction is: ', a - b)\n",
    "\n",
    "class Child(Base):\n",
    "    def mul(self, a, b):\n",
    "        print('Multiplication is: ', a * b)\n",
    "    def div(self, a, b):\n",
    "        print('Division is: ', a / b)\n",
    "\n",
    "c1 = Child()\n",
    "c1.mul(10, 20)\n",
    "\n",
    "b1 = Base()\n",
    "b1.add(100, 200)\n",
    "\n",
    "b1.mul(10, 20) ## error\n",
    "c1.add(10, 20)  "
   ]
  },
  {
   "cell_type": "code",
   "execution_count": 100,
   "id": "e4eb4676",
   "metadata": {},
   "outputs": [
    {
     "name": "stdout",
     "output_type": "stream",
     "text": [
      "Multiplication is:  200\n",
      "Addition is:  300\n",
      "Addition is:  30\n",
      "Sqaure is:  10000\n",
      "Subtraction is:  10\n"
     ]
    }
   ],
   "source": [
    "# hirarchical inheritance\n",
    "class Base:\n",
    "    def add(self, a, b):\n",
    "        print('Addition is: ', a + b)\n",
    "    def sub(self, a, b):\n",
    "        print('Subtraction is: ', a - b)\n",
    "\n",
    "class Child1(Base):\n",
    "    def mul(self, a, b):\n",
    "        print('Multiplication is: ', a * b)\n",
    "    def div(self, a, b):\n",
    "        print('Division is: ', a / b)\n",
    "\n",
    "class Child2(Base):\n",
    "    def square(self, a):\n",
    "        print('Sqaure is: ', a ** 2)\n",
    "\n",
    "c1 = Child1()\n",
    "c1.mul(10, 20)\n",
    "\n",
    "b1 = Base()\n",
    "b1.add(100, 200)\n",
    "\n",
    "# b1.mul(10, 20) ## error\n",
    "c1.add(10, 20)  \n",
    "\n",
    "# c1.square(100) ## error\n",
    "\n",
    "c2 = Child2()\n",
    "c2.square(100)\n",
    "\n",
    "c2.sub(20, 10)"
   ]
  },
  {
   "cell_type": "code",
   "execution_count": 101,
   "id": "e4d17bb0",
   "metadata": {},
   "outputs": [
    {
     "name": "stdout",
     "output_type": "stream",
     "text": [
      "Addition is:  30\n",
      "Subtraction is:  -10\n",
      "Multiplication is:  200\n",
      "Division is:  0.5\n",
      "Sqaure is:  100\n"
     ]
    }
   ],
   "source": [
    "# multiple inheritance\n",
    "\n",
    "class Base1:\n",
    "    def add(self, a, b):\n",
    "        print('Addition is: ', a + b)\n",
    "    def sub(self, a, b):\n",
    "        print('Subtraction is: ', a - b)\n",
    "\n",
    "class Base2:\n",
    "    def mul(self, a, b):\n",
    "        print('Multiplication is: ', a * b)\n",
    "    def div(self, a, b):\n",
    "        print('Division is: ', a / b)\n",
    "\n",
    "class Child(Base1, Base2):\n",
    "    def square(self, a):\n",
    "        print('Sqaure is: ', a ** 2)\n",
    "        \n",
    "c1 = Child()\n",
    "c1.add(10, 20)\n",
    "c1.sub(10, 20)\n",
    "c1.mul(10, 20)\n",
    "c1.div(10, 20)\n",
    "c1.square(10)"
   ]
  },
  {
   "cell_type": "code",
   "execution_count": 103,
   "id": "4d4045b3",
   "metadata": {},
   "outputs": [
    {
     "name": "stdout",
     "output_type": "stream",
     "text": [
      "Addition is:  30\n",
      "Subtraction is:  -10\n",
      "Multiplication is:  200\n",
      "Division is:  0.5\n",
      "Sqaure is:  100\n"
     ]
    }
   ],
   "source": [
    "# multilevel inheritance\n",
    "\n",
    "class Base:\n",
    "    def add(self, a, b):\n",
    "        print('Addition is: ', a + b)\n",
    "    def sub(self, a, b):\n",
    "        print('Subtraction is: ', a - b)\n",
    "\n",
    "class Child(Base):\n",
    "    def mul(self, a, b):\n",
    "        print('Multiplication is: ', a * b)\n",
    "    def div(self, a, b):\n",
    "        print('Division is: ', a / b)\n",
    "\n",
    "class Another_child(Child):\n",
    "    def square(self, a):\n",
    "        print('Sqaure is: ', a ** 2)\n",
    "        \n",
    "c1 = Another_child()\n",
    "c1.add(10, 20)\n",
    "c1.sub(10, 20)\n",
    "c1.mul(10, 20)\n",
    "c1.div(10, 20)\n",
    "c1.square(10)"
   ]
  },
  {
   "cell_type": "code",
   "execution_count": null,
   "id": "8d526965",
   "metadata": {},
   "outputs": [],
   "source": [
    "# Hybrid inheritance\n",
    "\n",
    "class Base:\n",
    "    def add(self, a, b):\n",
    "        print('Addition is: ', a + b)\n",
    "    def sub(self, a, b):\n",
    "        print('Subtraction is: ', a - b)\n",
    "\n",
    "class Child(Base):\n",
    "    def mul(self, a, b):\n",
    "        print('Multiplication is: ', a * b)\n",
    "    def div(self, a, b):\n",
    "        print('Division is: ', a / b)\n",
    "\n",
    "class Another_child(Child):\n",
    "    def square(self, a):\n",
    "        print('Sqaure is: ', a ** 2)\n",
    "        \n",
    "c1 = Another_child()\n",
    "c1.add(10, 20)\n",
    "c1.sub(10, 20)\n",
    "c1.mul(10, 20)\n",
    "c1.div(10, 20)\n",
    "c1.square(10)"
   ]
  },
  {
   "cell_type": "code",
   "execution_count": 121,
   "id": "fb2401a5",
   "metadata": {},
   "outputs": [
    {
     "name": "stdout",
     "output_type": "stream",
     "text": [
      "Enter the name of employee: john\n",
      "Enter the age of employee: 24\n",
      "Enter the Date of Joining: 23432\n",
      "Enter the designation of employee: analyst\n"
     ]
    }
   ],
   "source": [
    "# Problem Statement:\n",
    "\n",
    "# Create an employee class (this is parent class)\n",
    "# Properties: \n",
    "# Variables: name, age, DoJ, designation (through constructor)\n",
    "# Method: works_for_company()\n",
    "\n",
    "# create permanent_emp class\n",
    "# Variables: career_level, incentive_per (through constructor)\n",
    "# Method: gets_bonus()\n",
    "\n",
    "\n",
    "# create contract_emp class\n",
    "# Variables: contract_start_dt, contract_end_dt(through constructor)\n",
    "# Method: works_remotely()\n",
    "\n",
    "\n",
    "\n",
    "class Employee:\n",
    "    def __init__(self,name, age, DoJ, desig):\n",
    "        self.name = name\n",
    "        self.age = age\n",
    "        self.DoJ=DoJ\n",
    "        self.desig=desig\n",
    "\n",
    "    def works_for_company(self,comp_name):\n",
    "        print(\"Employee Details \\n\")\n",
    "        print(\"Name -\",self.name)\n",
    "        print(\"Age - \",self.age)\n",
    "        print(\"Date of Joining - \", self.DoJ)\n",
    "        print(\"Designation - \", self.desig)\n",
    "\n",
    "\n",
    "class Permanent_emp(Employee):\n",
    "    def __init__(self,career_level,incentive_per): # CONSTRUCTOR\n",
    "        self.career_level = career_level\n",
    "        self.incentive_per = incentive_per\n",
    "        \n",
    "        n = input('Enter the name of employee: ')\n",
    "        a = int(input('Enter the age of employee: '))\n",
    "        d1 = input('Enter the Date of Joining: ')\n",
    "        d2 = input('Enter the designation of employee: ')\n",
    "        super().__init__(n, a, d1, d2)\n",
    "\n",
    "    def get_bonus(self):\n",
    "        print(\"Career Level: \", self.career_level)\n",
    "        print(\" Incentive percentage = \",self.incentive_per)\n",
    "\n",
    "class Contract_emp(Employee):\n",
    "    def __init__(self, end_dt): # CONSTRUCTOR\n",
    "    \n",
    "        n = input('Enter the name of employee: ')\n",
    "        a = int(input('Enter the age of employee: '))\n",
    "        d1 = input('Enter the Date of Joining: ')\n",
    "        d2 = input('Enter the designation of employee: ')\n",
    "        super().__init__(n, a, d1, d2)\n",
    "        \n",
    "        self.start_dt = self.DoJ\n",
    "        self.end_dt = end_dt\n",
    "    def works_remotely(self):\n",
    "        print(\"Contract start date : \", self.start_dt)\n",
    "        print(\"Contract end date : \", self.end_dt)\n",
    "\n",
    "# pe_obj = Permanent_emp(3, 8)\n",
    "# pe_obj.get_bonus()\n",
    "# print()\n",
    "# pe_obj.works_for_company('Deloitte')\n",
    "\n",
    "ce_obj = Contract_emp('30-01-2020')"
   ]
  },
  {
   "cell_type": "code",
   "execution_count": 130,
   "id": "a6c6f082",
   "metadata": {},
   "outputs": [
    {
     "name": "stdout",
     "output_type": "stream",
     "text": [
      "Enter Basic Sal: 20000\n",
      "CTC of Contract Employee is:  312000.0\n"
     ]
    }
   ],
   "source": [
    "class Employee:\n",
    "    def cal_ctc(self, basic):\n",
    "        pass\n",
    "\n",
    "class perm_emp(Employee):\n",
    "    def cal_ctc(self, basic):\n",
    "        variable = int(input(\"Enter variable: \"))\n",
    "        ctc = (basic + basic*0.5) * 12 + variable \n",
    "        print('CTC of permanent Employee is: ', ctc)\n",
    "        \n",
    "class contract_emp(Employee):\n",
    "    def cal_ctc(self, basic):\n",
    "        ctc = (basic + basic*0.3) * 12\n",
    "        print('CTC of Contract Employee is: ', ctc)\n",
    "\n",
    "basic_sal = int(input(\"Enter Basic Sal: \"))\n",
    "# emp_obj = perm_emp()\n",
    "# emp_obj.cal_ctc(basic_sal)\n",
    "\n",
    "emp_obj = contract_emp()\n",
    "emp_obj.cal_ctc(basic_sal)"
   ]
  },
  {
   "cell_type": "code",
   "execution_count": 131,
   "id": "9a2b10df",
   "metadata": {},
   "outputs": [
    {
     "data": {
      "text/plain": [
       "1"
      ]
     },
     "execution_count": 131,
     "metadata": {},
     "output_type": "execute_result"
    }
   ],
   "source": [
    "min(1,2,3,4)"
   ]
  },
  {
   "cell_type": "code",
   "execution_count": 132,
   "id": "0a084c55",
   "metadata": {},
   "outputs": [
    {
     "data": {
      "text/plain": [
       "'a'"
      ]
     },
     "execution_count": 132,
     "metadata": {},
     "output_type": "execute_result"
    }
   ],
   "source": [
    "min('a', 'b', 'c', 'd')"
   ]
  },
  {
   "cell_type": "code",
   "execution_count": 133,
   "id": "964bad65",
   "metadata": {},
   "outputs": [
    {
     "data": {
      "text/plain": [
       "1"
      ]
     },
     "execution_count": 133,
     "metadata": {},
     "output_type": "execute_result"
    }
   ],
   "source": [
    "min([1,2,3,4,5])"
   ]
  },
  {
   "cell_type": "code",
   "execution_count": 138,
   "id": "2289b4d7",
   "metadata": {},
   "outputs": [],
   "source": [
    "def sample():\n",
    "    pass\n"
   ]
  },
  {
   "cell_type": "code",
   "execution_count": 141,
   "id": "1352cfd5",
   "metadata": {},
   "outputs": [],
   "source": [
    "if 10 > 20:\n",
    "    print('done')\n",
    "else:\n",
    "    ..."
   ]
  },
  {
   "cell_type": "markdown",
   "id": "4d6ff6ec",
   "metadata": {},
   "source": [
    "# OOP Revisited\n",
    "\n",
    "- class\n",
    "- object\n",
    "- class methods\n",
    "- class variables\n",
    "- instance variables\n",
    "- constructor\n",
    "- destructor\n",
    "- inheritance\n",
    "- method overriding\n",
    "- polymorphism\n",
    "- Data Abstraction \n",
    "- Encapsulation"
   ]
  },
  {
   "cell_type": "code",
   "execution_count": null,
   "id": "11b3b4d3",
   "metadata": {},
   "outputs": [],
   "source": []
  }
 ],
 "metadata": {
  "kernelspec": {
   "display_name": "Python 3 (ipykernel)",
   "language": "python",
   "name": "python3"
  },
  "language_info": {
   "codemirror_mode": {
    "name": "ipython",
    "version": 3
   },
   "file_extension": ".py",
   "mimetype": "text/x-python",
   "name": "python",
   "nbconvert_exporter": "python",
   "pygments_lexer": "ipython3",
   "version": "3.9.13"
  }
 },
 "nbformat": 4,
 "nbformat_minor": 5
}
