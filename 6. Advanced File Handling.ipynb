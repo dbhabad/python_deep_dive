{
 "cells": [
  {
   "cell_type": "markdown",
   "id": "75cd1bc9",
   "metadata": {},
   "source": [
    "## CSV Files"
   ]
  },
  {
   "cell_type": "code",
   "execution_count": 1,
   "id": "133eae2b",
   "metadata": {},
   "outputs": [
    {
     "data": {
      "text/plain": [
       "'C:\\\\Users\\\\dbhabad\\\\Python_training\\\\Week2'"
      ]
     },
     "execution_count": 1,
     "metadata": {},
     "output_type": "execute_result"
    }
   ],
   "source": [
    "import os\n",
    "os.getcwd()"
   ]
  },
  {
   "cell_type": "code",
   "execution_count": 2,
   "id": "a0b3c83c",
   "metadata": {},
   "outputs": [
    {
     "name": "stdout",
     "output_type": "stream",
     "text": [
      "(29216, 10)\n"
     ]
    }
   ],
   "source": [
    "## reading csv file into pandas dataframe\n",
    "\n",
    "import pandas as pd\n",
    "\n",
    "df = pd.read_csv('medal.csv') # it will load complete data from a file into df (DataFrame object)\n",
    "\n",
    "print(df.shape)"
   ]
  },
  {
   "cell_type": "code",
   "execution_count": 4,
   "id": "1c16f6e2",
   "metadata": {},
   "outputs": [],
   "source": [
    "\n",
    "df.to_excel('medal.xlsx', index = False)"
   ]
  },
  {
   "cell_type": "code",
   "execution_count": null,
   "id": "4afaa7e2",
   "metadata": {},
   "outputs": [],
   "source": [
    "## writing  pandas dataframe into csv file\n",
    "\n",
    "# df.to_csv('new_medal.csv') # it will write complete data from a df (DataFrame object) into file\n",
    "\n",
    "df.to_csv('new_medal.csv', index = False) # if you don't want to write index information into file"
   ]
  },
  {
   "cell_type": "markdown",
   "id": "ac4f28a7",
   "metadata": {},
   "source": [
    "## Excel Files"
   ]
  },
  {
   "cell_type": "code",
   "execution_count": 5,
   "id": "a70ee8b6",
   "metadata": {},
   "outputs": [
    {
     "name": "stdout",
     "output_type": "stream",
     "text": [
      "(29216, 10)\n"
     ]
    }
   ],
   "source": [
    "## reading XLSX (excel) file into pandas dataframe\n",
    "\n",
    "import pandas as pd\n",
    "\n",
    "# load data from a file into dataframe (from the first sheet by default)\n",
    "df = pd.read_excel('medal.xlsx') \n",
    "print(df.shape)\n"
   ]
  },
  {
   "cell_type": "code",
   "execution_count": 6,
   "id": "4a2a73fa",
   "metadata": {},
   "outputs": [
    {
     "name": "stdout",
     "output_type": "stream",
     "text": [
      "(20, 10)\n"
     ]
    }
   ],
   "source": [
    "# load data from a file into dataframe (from the first sheet by default)\n",
    "df = pd.read_excel('medal.xlsx', sheet_name='Sheet2') \n",
    "print(df.shape)"
   ]
  },
  {
   "cell_type": "code",
   "execution_count": null,
   "id": "5b0610ed",
   "metadata": {},
   "outputs": [],
   "source": [
    "## writing  pandas dataframe into excel file\n",
    "\n",
    "df.to_excel('medal_data.xlsx', index = False)"
   ]
  },
  {
   "cell_type": "markdown",
   "id": "83b2aa98",
   "metadata": {},
   "source": [
    "## JSON Files"
   ]
  },
  {
   "cell_type": "code",
   "execution_count": 7,
   "id": "213f972c",
   "metadata": {},
   "outputs": [],
   "source": [
    "# python has a json package\n",
    "import json"
   ]
  },
  {
   "cell_type": "code",
   "execution_count": 8,
   "id": "3cbe8a16",
   "metadata": {},
   "outputs": [],
   "source": [
    "# data to be written in a file\n",
    "data = {'emp_id':1001,'Name':'john','dept':'IT', 'sal':25000}"
   ]
  },
  {
   "cell_type": "code",
   "execution_count": 10,
   "id": "24f179c0",
   "metadata": {},
   "outputs": [],
   "source": [
    "# write a data in json file\n",
    "\n",
    "with open(\"data_file.json\", \"w\") as f1:\n",
    "    json.dump(data, f1)"
   ]
  },
  {
   "cell_type": "code",
   "execution_count": 11,
   "id": "18378e96",
   "metadata": {},
   "outputs": [
    {
     "name": "stdout",
     "output_type": "stream",
     "text": [
      "{\"emp_id\": 1001, \"Name\": \"john\", \"dept\": \"IT\", \"sal\": 25000}\n",
      "<class 'str'>\n"
     ]
    },
    {
     "data": {
      "text/plain": [
       "'{\"emp_id\": 1001, \"Name\": \"john\", \"dept\": \"IT\", \"sal\": 25000}'"
      ]
     },
     "execution_count": 11,
     "metadata": {},
     "output_type": "execute_result"
    }
   ],
   "source": [
    "var1 = json.dumps(data)\n",
    "print(var1)\n",
    "print(type(var1))\n",
    "var1"
   ]
  },
  {
   "cell_type": "code",
   "execution_count": 12,
   "id": "9bb58aa8",
   "metadata": {},
   "outputs": [
    {
     "name": "stdout",
     "output_type": "stream",
     "text": [
      "<class 'dict'>\n"
     ]
    },
    {
     "data": {
      "text/plain": [
       "{'emp_id': 1001, 'Name': 'john', 'dept': 'IT', 'sal': 25000}"
      ]
     },
     "execution_count": 12,
     "metadata": {},
     "output_type": "execute_result"
    }
   ],
   "source": [
    "d1 = json.loads(var1)\n",
    "print(type(d1))\n",
    "d1"
   ]
  },
  {
   "cell_type": "code",
   "execution_count": null,
   "id": "1995e05f",
   "metadata": {},
   "outputs": [],
   "source": [
    "# read data from json file\n",
    "\n",
    "with open(\"data_file.json\", \"r\") as f1:\n",
    "    data1 = json.load(f1)\n",
    "    \n",
    "print(data1)\n",
    "print(type(data1))"
   ]
  },
  {
   "cell_type": "code",
   "execution_count": 13,
   "id": "edbc5e40",
   "metadata": {},
   "outputs": [],
   "source": [
    "import json\n",
    "import requests"
   ]
  },
  {
   "cell_type": "code",
   "execution_count": 14,
   "id": "6f740a53",
   "metadata": {},
   "outputs": [],
   "source": [
    "response = requests.get(\"https://www.randomuser.me/api\")\n",
    "data = json.loads(response.text)"
   ]
  },
  {
   "cell_type": "code",
   "execution_count": 15,
   "id": "2e2be382",
   "metadata": {},
   "outputs": [
    {
     "data": {
      "text/plain": [
       "str"
      ]
     },
     "execution_count": 15,
     "metadata": {},
     "output_type": "execute_result"
    }
   ],
   "source": [
    "type(response.text)"
   ]
  },
  {
   "cell_type": "code",
   "execution_count": 16,
   "id": "927a31c4",
   "metadata": {},
   "outputs": [
    {
     "data": {
      "text/plain": [
       "dict"
      ]
     },
     "execution_count": 16,
     "metadata": {},
     "output_type": "execute_result"
    }
   ],
   "source": [
    "type(data)"
   ]
  },
  {
   "cell_type": "code",
   "execution_count": 17,
   "id": "518338f3",
   "metadata": {},
   "outputs": [
    {
     "data": {
      "text/plain": [
       "{'results': [{'gender': 'female',\n",
       "   'name': {'title': 'Mrs', 'first': 'Filippa', 'last': 'Jensen'},\n",
       "   'location': {'street': {'number': 7481, 'name': 'Havremarken'},\n",
       "    'city': 'Jystrup',\n",
       "    'state': 'Hovedstaden',\n",
       "    'country': 'Denmark',\n",
       "    'postcode': 18151,\n",
       "    'coordinates': {'latitude': '-39.4705', 'longitude': '1.3655'},\n",
       "    'timezone': {'offset': '+1:00',\n",
       "     'description': 'Brussels, Copenhagen, Madrid, Paris'}},\n",
       "   'email': 'filippa.jensen@example.com',\n",
       "   'login': {'uuid': '4357b452-1e63-407d-b7b5-a27102282020',\n",
       "    'username': 'goldenostrich255',\n",
       "    'password': 'pikachu',\n",
       "    'salt': '6yobCYEC',\n",
       "    'md5': '7c3028263e0fb69235f59773825ae681',\n",
       "    'sha1': '873d676ec38503868a7b2ba0a4f928751194365d',\n",
       "    'sha256': 'dddb0706e0247a52c3a51e66ded283ed438ea851f8949a099a88f3ffb1bc81c2'},\n",
       "   'dob': {'date': '1972-10-21T21:32:30.474Z', 'age': 50},\n",
       "   'registered': {'date': '2003-12-11T04:47:54.484Z', 'age': 19},\n",
       "   'phone': '11510109',\n",
       "   'cell': '07765017',\n",
       "   'id': {'name': 'CPR', 'value': '211072-9907'},\n",
       "   'picture': {'large': 'https://randomuser.me/api/portraits/women/0.jpg',\n",
       "    'medium': 'https://randomuser.me/api/portraits/med/women/0.jpg',\n",
       "    'thumbnail': 'https://randomuser.me/api/portraits/thumb/women/0.jpg'},\n",
       "   'nat': 'DK'}],\n",
       " 'info': {'seed': '662a25da5bbc92da',\n",
       "  'results': 1,\n",
       "  'page': 1,\n",
       "  'version': '1.4'}}"
      ]
     },
     "execution_count": 17,
     "metadata": {},
     "output_type": "execute_result"
    }
   ],
   "source": [
    "data"
   ]
  },
  {
   "cell_type": "markdown",
   "id": "bbf0ae43",
   "metadata": {},
   "source": [
    "## XML Files"
   ]
  },
  {
   "cell_type": "code",
   "execution_count": 18,
   "id": "59b7d233",
   "metadata": {},
   "outputs": [],
   "source": [
    "import xml.etree.ElementTree as ET"
   ]
  },
  {
   "cell_type": "code",
   "execution_count": 19,
   "id": "43f88233",
   "metadata": {},
   "outputs": [],
   "source": [
    "tree = ET.parse('sample.xml')\n",
    "root = tree.getroot()"
   ]
  },
  {
   "cell_type": "code",
   "execution_count": 20,
   "id": "95c39c54",
   "metadata": {},
   "outputs": [
    {
     "name": "stdout",
     "output_type": "stream",
     "text": [
      "<class 'xml.etree.ElementTree.ElementTree'>\n",
      "<class 'xml.etree.ElementTree.Element'>\n"
     ]
    }
   ],
   "source": [
    "print(type(tree))\n",
    "print(type(root))"
   ]
  },
  {
   "cell_type": "code",
   "execution_count": 21,
   "id": "f3b70ef2",
   "metadata": {},
   "outputs": [
    {
     "data": {
      "text/plain": [
       "'collection'"
      ]
     },
     "execution_count": 21,
     "metadata": {},
     "output_type": "execute_result"
    }
   ],
   "source": [
    "root.tag"
   ]
  },
  {
   "cell_type": "code",
   "execution_count": 22,
   "id": "83b91116",
   "metadata": {},
   "outputs": [
    {
     "data": {
      "text/plain": [
       "{}"
      ]
     },
     "execution_count": 22,
     "metadata": {},
     "output_type": "execute_result"
    }
   ],
   "source": [
    "root.attrib"
   ]
  },
  {
   "cell_type": "code",
   "execution_count": 23,
   "id": "f0b167a7",
   "metadata": {},
   "outputs": [
    {
     "name": "stdout",
     "output_type": "stream",
     "text": [
      "genre {'category': 'Action'}\n",
      "genre {'category': 'Thriller'}\n"
     ]
    }
   ],
   "source": [
    "for child in root:\n",
    "    print(child.tag, child.attrib)"
   ]
  },
  {
   "cell_type": "code",
   "execution_count": 24,
   "id": "82facb41",
   "metadata": {},
   "outputs": [
    {
     "name": "stdout",
     "output_type": "stream",
     "text": [
      "{'favorite': 'True', 'title': 'Indiana Jones: The raiders of the lost Ark'}\n",
      "{'favorite': 'True', 'title': 'THE KARATE KID'}\n",
      "{'favorite': 'False', 'title': 'Back 2 the Future'}\n",
      "{'favorite': 'False', 'title': 'X-Men'}\n",
      "{'favorite': 'True', 'title': 'Batman Returns'}\n",
      "{'favorite': 'False', 'title': 'Reservoir Dogs'}\n",
      "{'favorite': 'False', 'title': 'ALIEN'}\n",
      "{'favorite': 'True', 'title': \"Ferris Bueller's Day Off\"}\n",
      "{'favorite': 'FALSE', 'title': 'American Psycho'}\n"
     ]
    }
   ],
   "source": [
    "for movie in root.iter('movie'):\n",
    "    print(movie.attrib)"
   ]
  },
  {
   "cell_type": "code",
   "execution_count": 25,
   "id": "48498753",
   "metadata": {},
   "outputs": [
    {
     "name": "stdout",
     "output_type": "stream",
     "text": [
      "{'favorite': 'True', 'title': 'Batman Returns'}\n",
      "{'favorite': 'False', 'title': 'Reservoir Dogs'}\n"
     ]
    }
   ],
   "source": [
    "for movie in root.findall(\"./genre/decade/movie/[year='1992']\"):\n",
    "    print(movie.attrib)"
   ]
  },
  {
   "cell_type": "code",
   "execution_count": null,
   "id": "ab231735",
   "metadata": {},
   "outputs": [],
   "source": [
    "tree.write(\"movies_new.xml\")"
   ]
  },
  {
   "cell_type": "markdown",
   "id": "67833c93",
   "metadata": {},
   "source": [
    "## Parquet Files"
   ]
  },
  {
   "cell_type": "code",
   "execution_count": null,
   "id": "7e1655fa",
   "metadata": {},
   "outputs": [],
   "source": [
    "!pip install pyarrow"
   ]
  },
  {
   "cell_type": "code",
   "execution_count": null,
   "id": "01e38e8d",
   "metadata": {},
   "outputs": [],
   "source": [
    "import pandas as pd"
   ]
  },
  {
   "cell_type": "code",
   "execution_count": 26,
   "id": "da6fb717",
   "metadata": {},
   "outputs": [
    {
     "name": "stdout",
     "output_type": "stream",
     "text": [
      "(9994, 22)\n"
     ]
    }
   ],
   "source": [
    "#read csv file into df\n",
    "\n",
    "df = pd.read_csv('Store.csv')\n",
    "print(df.shape)"
   ]
  },
  {
   "cell_type": "code",
   "execution_count": 27,
   "id": "dd4f37f5",
   "metadata": {},
   "outputs": [],
   "source": [
    "# write parquet file\n",
    "df.to_parquet('Store.parquet', index=False)"
   ]
  },
  {
   "cell_type": "code",
   "execution_count": 28,
   "id": "eb007ba2",
   "metadata": {},
   "outputs": [
    {
     "name": "stdout",
     "output_type": "stream",
     "text": [
      "(9994, 22)\n"
     ]
    }
   ],
   "source": [
    "#read csv file into df\n",
    "df = pd.read_parquet('Store.parquet')\n",
    "print(df.shape)"
   ]
  },
  {
   "cell_type": "code",
   "execution_count": null,
   "id": "7b1ab9fd",
   "metadata": {},
   "outputs": [],
   "source": [
    "df.columns"
   ]
  },
  {
   "cell_type": "code",
   "execution_count": null,
   "id": "e05f0f3c",
   "metadata": {},
   "outputs": [],
   "source": [
    "os.mkdir('parquet_data')"
   ]
  },
  {
   "cell_type": "code",
   "execution_count": null,
   "id": "492d05ab",
   "metadata": {},
   "outputs": [],
   "source": [
    "# write parquet file\n",
    "df.to_parquet('parquet_data/Store.parquet', index=False, partition_cols=['State'])"
   ]
  },
  {
   "cell_type": "code",
   "execution_count": null,
   "id": "14f95ba5",
   "metadata": {},
   "outputs": [],
   "source": []
  },
  {
   "cell_type": "code",
   "execution_count": null,
   "id": "ed5ef0b3",
   "metadata": {},
   "outputs": [],
   "source": []
  },
  {
   "cell_type": "code",
   "execution_count": null,
   "id": "da5a2c4d",
   "metadata": {},
   "outputs": [],
   "source": []
  },
  {
   "cell_type": "code",
   "execution_count": null,
   "id": "af5f46bf",
   "metadata": {},
   "outputs": [],
   "source": []
  },
  {
   "cell_type": "code",
   "execution_count": null,
   "id": "e67c9e4c",
   "metadata": {},
   "outputs": [],
   "source": []
  },
  {
   "cell_type": "code",
   "execution_count": null,
   "id": "e4048bdf",
   "metadata": {},
   "outputs": [],
   "source": []
  },
  {
   "cell_type": "code",
   "execution_count": null,
   "id": "71d84390",
   "metadata": {},
   "outputs": [],
   "source": []
  },
  {
   "cell_type": "code",
   "execution_count": null,
   "id": "99b4847a",
   "metadata": {},
   "outputs": [],
   "source": [
    "# write parquet file\n",
    "df.to_parquet('parquet_data/Store.parquet', index=False, partition_cols=['State', 'City'])"
   ]
  },
  {
   "cell_type": "code",
   "execution_count": null,
   "id": "976e68de",
   "metadata": {},
   "outputs": [],
   "source": []
  }
 ],
 "metadata": {
  "kernelspec": {
   "display_name": "Python 3 (ipykernel)",
   "language": "python",
   "name": "python3"
  },
  "language_info": {
   "codemirror_mode": {
    "name": "ipython",
    "version": 3
   },
   "file_extension": ".py",
   "mimetype": "text/x-python",
   "name": "python",
   "nbconvert_exporter": "python",
   "pygments_lexer": "ipython3",
   "version": "3.9.13"
  }
 },
 "nbformat": 4,
 "nbformat_minor": 5
}
