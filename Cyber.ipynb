{
 "cells": [
  {
   "cell_type": "markdown",
   "id": "09697df3",
   "metadata": {},
   "source": [
    "### Cryptography"
   ]
  },
  {
   "cell_type": "code",
   "execution_count": null,
   "id": "b8b22d19",
   "metadata": {},
   "outputs": [],
   "source": [
    "!pip install cryptography"
   ]
  },
  {
   "cell_type": "code",
   "execution_count": null,
   "id": "2f26bb65",
   "metadata": {},
   "outputs": [],
   "source": [
    "#simple encryption/decryption\n",
    "\n",
    "from cryptography.fernet import Fernet\n",
    "\n",
    "key = Fernet.generate_key()\n",
    "f = Fernet(key)\n",
    "encr_msg = f.encrypt(b\"My secret message\")\n",
    "print(encr_msg)"
   ]
  },
  {
   "cell_type": "code",
   "execution_count": null,
   "id": "ad5f86e1",
   "metadata": {},
   "outputs": [],
   "source": [
    "type(encr_msg)"
   ]
  },
  {
   "cell_type": "code",
   "execution_count": null,
   "id": "f8dcaf95",
   "metadata": {},
   "outputs": [],
   "source": [
    "s1 = b\"My secret message\"\n",
    "type(s1)"
   ]
  },
  {
   "cell_type": "code",
   "execution_count": null,
   "id": "f6a2570c",
   "metadata": {},
   "outputs": [],
   "source": [
    "decr_msg = f.decrypt(encr_msg)\n",
    "print(decr_msg)"
   ]
  },
  {
   "cell_type": "code",
   "execution_count": null,
   "id": "4beaad8f",
   "metadata": {},
   "outputs": [],
   "source": [
    "# encryption/decryption with ttl\n",
    "\n",
    "key = Fernet.generate_key()\n",
    "f = Fernet(key)\n",
    "encr_msg = f.encrypt(b\"My secret message\")\n",
    "print(encr_msg)"
   ]
  },
  {
   "cell_type": "code",
   "execution_count": null,
   "id": "bb863561",
   "metadata": {},
   "outputs": [],
   "source": [
    "decr_msg = f.decrypt(encr_msg, 10)\n",
    "print(decr_msg)"
   ]
  },
  {
   "cell_type": "code",
   "execution_count": null,
   "id": "a37fd777",
   "metadata": {},
   "outputs": [],
   "source": []
  },
  {
   "cell_type": "markdown",
   "id": "f13f0f8d",
   "metadata": {},
   "source": [
    "### Nmap"
   ]
  },
  {
   "cell_type": "code",
   "execution_count": null,
   "id": "ce31214d",
   "metadata": {},
   "outputs": [],
   "source": [
    "!pip uninstall nmap"
   ]
  },
  {
   "cell_type": "code",
   "execution_count": null,
   "id": "766ce8b6",
   "metadata": {},
   "outputs": [],
   "source": [
    "!pip uninstall python-nmap"
   ]
  },
  {
   "cell_type": "code",
   "execution_count": null,
   "id": "0a105959",
   "metadata": {},
   "outputs": [],
   "source": [
    "!pip install python-nmap"
   ]
  },
  {
   "cell_type": "code",
   "execution_count": null,
   "id": "624fd6c0",
   "metadata": {},
   "outputs": [],
   "source": [
    "import nmap"
   ]
  },
  {
   "cell_type": "code",
   "execution_count": null,
   "id": "d6c8d92c",
   "metadata": {
    "scrolled": true
   },
   "outputs": [],
   "source": [
    "dir(nmap)"
   ]
  },
  {
   "cell_type": "code",
   "execution_count": null,
   "id": "d8b7c523",
   "metadata": {},
   "outputs": [],
   "source": [
    "# download and install first nmap binaries from \n",
    "# https://nmap.org/download.html#windows\n",
    "# then set environment variable path for both user and system to path of\n",
    "# nmap binary installation\n",
    "\n",
    "scanner = nmap.PortScanner()\n",
    "ip_addr = '127.0.0.1'"
   ]
  },
  {
   "cell_type": "code",
   "execution_count": null,
   "id": "b33b5aba",
   "metadata": {},
   "outputs": [],
   "source": [
    "import os\n",
    "os.environ"
   ]
  },
  {
   "cell_type": "code",
   "execution_count": null,
   "id": "7ad2156e",
   "metadata": {},
   "outputs": [],
   "source": [
    "scanner.nmap_version()"
   ]
  },
  {
   "cell_type": "code",
   "execution_count": 24,
   "id": "ab4c5e44",
   "metadata": {},
   "outputs": [
    {
     "name": "stdout",
     "output_type": "stream",
     "text": [
      "{'nmap': {'command_line': 'nmap -oX - -p 80 -sV 127.0.0.1', 'scaninfo': {'error': ['NSOCK ERROR [0.0470s] ssl_init_helper(): OpenSSL legacy provider failed to load.\\r\\n\\r\\n'], 'tcp': {'method': 'syn', 'services': '80'}}, 'scanstats': {'timestr': 'Fri Apr 21 11:16:36 2023', 'elapsed': '0.68', 'uphosts': '1', 'downhosts': '0', 'totalhosts': '1'}}, 'scan': {'127.0.0.1': {'hostnames': [{'name': 'localhost', 'type': 'PTR'}], 'addresses': {'ipv4': '127.0.0.1'}, 'vendor': {}, 'status': {'state': 'up', 'reason': 'localhost-response'}, 'tcp': {80: {'state': 'closed', 'reason': 'reset', 'name': 'http', 'product': '', 'version': '', 'extrainfo': '', 'conf': '3', 'cpe': ''}}}}}\n"
     ]
    }
   ],
   "source": [
    "res = scanner.scan(ip_addr, '80')\n",
    "print(res)"
   ]
  },
  {
   "cell_type": "code",
   "execution_count": 25,
   "id": "24401d75",
   "metadata": {},
   "outputs": [
    {
     "name": "stdout",
     "output_type": "stream",
     "text": [
      "closed\n"
     ]
    }
   ],
   "source": [
    "status = res['scan'][ip_addr]['tcp'][80]['state']\n",
    "print(status)"
   ]
  },
  {
   "cell_type": "code",
   "execution_count": 26,
   "id": "52fc1c3e",
   "metadata": {},
   "outputs": [
    {
     "name": "stdout",
     "output_type": "stream",
     "text": [
      "Port 50 is closed..!!\n",
      "Port 51 is closed..!!\n",
      "Port 52 is closed..!!\n",
      "Port 53 is open..!!\n",
      "Port 54 is closed..!!\n"
     ]
    }
   ],
   "source": [
    "for i in range(50, 55):\n",
    "    res = scanner.scan(ip_addr, str(i))\n",
    "    status = res['scan'][ip_addr]['tcp'][i]['state']\n",
    "    print('Port {} is {}..!!'.format(i, status))"
   ]
  },
  {
   "cell_type": "code",
   "execution_count": 27,
   "id": "0ee3e16c",
   "metadata": {},
   "outputs": [
    {
     "data": {
      "text/plain": [
       "{'tcp': {'method': 'syn', 'services': '1-1024'}}"
      ]
     },
     "execution_count": 27,
     "metadata": {},
     "output_type": "execute_result"
    }
   ],
   "source": [
    "scanner.scan(ip_addr,'1-1024', '-v -sS')\n",
    "scanner.scaninfo()"
   ]
  },
  {
   "cell_type": "code",
   "execution_count": 28,
   "id": "9b232424",
   "metadata": {},
   "outputs": [
    {
     "name": "stdout",
     "output_type": "stream",
     "text": [
      "Ip Status:  up\n"
     ]
    }
   ],
   "source": [
    "print(\"Ip Status: \", scanner[ip_addr].state())"
   ]
  },
  {
   "cell_type": "code",
   "execution_count": 29,
   "id": "935545f5",
   "metadata": {},
   "outputs": [
    {
     "name": "stdout",
     "output_type": "stream",
     "text": [
      "protocols: ['tcp']\n",
      "Open Ports:  dict_keys([53, 135, 137, 445, 902, 912])\n"
     ]
    }
   ],
   "source": [
    "print(\"protocols:\",scanner[ip_addr].all_protocols())\n",
    "print(\"Open Ports: \", scanner[ip_addr]['tcp'].keys())"
   ]
  },
  {
   "cell_type": "code",
   "execution_count": 30,
   "id": "36457f19",
   "metadata": {},
   "outputs": [
    {
     "name": "stdout",
     "output_type": "stream",
     "text": [
      "{'udp': {'method': 'udp', 'services': '1-1024'}}\n",
      "Ip Status:  up\n",
      "protocols: ['udp']\n",
      "Open Ports:  dict_keys([53, 123, 137, 500])\n"
     ]
    }
   ],
   "source": [
    "scanner.scan(ip_addr, '1-1024', '-v -sU')\n",
    "print(scanner.scaninfo())\n",
    "# state() tells if target is up or down\n",
    "print(\"Ip Status: \", scanner[ip_addr].state())\n",
    "print(\"protocols:\",scanner[ip_addr].all_protocols())\n",
    "print(\"Open Ports: \", scanner[ip_addr]['udp'].keys())"
   ]
  },
  {
   "cell_type": "code",
   "execution_count": null,
   "id": "64f4c975",
   "metadata": {},
   "outputs": [],
   "source": [
    "scanner.scan(ip_addr, '1-1024', '-v -sS -sV -sC -A -O')\n",
    "print(scanner.scaninfo())\n",
    "print(\"Ip Status: \", scanner[ip_addr].state())\n",
    "print(scanner[ip_addr].all_protocols())\n",
    "print(\"Open Ports: \", scanner[ip_addr]['tcp'].keys())"
   ]
  },
  {
   "cell_type": "markdown",
   "id": "15acce48",
   "metadata": {},
   "source": [
    "### Scapy"
   ]
  },
  {
   "cell_type": "code",
   "execution_count": null,
   "id": "c5a10c1b",
   "metadata": {},
   "outputs": [],
   "source": [
    "!pip install scapy"
   ]
  },
  {
   "cell_type": "code",
   "execution_count": null,
   "id": "87a01468",
   "metadata": {},
   "outputs": [],
   "source": [
    "from scapy.all import *"
   ]
  },
  {
   "cell_type": "code",
   "execution_count": null,
   "id": "f07f1b54",
   "metadata": {},
   "outputs": [],
   "source": [
    "print(dir(scapy))"
   ]
  },
  {
   "cell_type": "code",
   "execution_count": null,
   "id": "d5c080e4",
   "metadata": {},
   "outputs": [],
   "source": [
    "print(dir(scapy.all))"
   ]
  },
  {
   "cell_type": "code",
   "execution_count": null,
   "id": "aa72b1ec",
   "metadata": {},
   "outputs": [],
   "source": []
  },
  {
   "cell_type": "code",
   "execution_count": null,
   "id": "1271b7bf",
   "metadata": {},
   "outputs": [],
   "source": []
  },
  {
   "cell_type": "code",
   "execution_count": null,
   "id": "7a633c06",
   "metadata": {},
   "outputs": [],
   "source": [
    "req=ARP()"
   ]
  },
  {
   "cell_type": "code",
   "execution_count": null,
   "id": "65b87a95",
   "metadata": {},
   "outputs": [],
   "source": [
    "print(req.summary())"
   ]
  },
  {
   "cell_type": "code",
   "execution_count": null,
   "id": "a131c8ea",
   "metadata": {},
   "outputs": [],
   "source": [
    "print(req.show())"
   ]
  },
  {
   "cell_type": "code",
   "execution_count": null,
   "id": "72acedf8",
   "metadata": {},
   "outputs": [],
   "source": [
    "print(ls(req))"
   ]
  },
  {
   "cell_type": "code",
   "execution_count": null,
   "id": "fcf3597a",
   "metadata": {},
   "outputs": [],
   "source": [
    "bcast=Ether()\n",
    "print(bcast.summary())"
   ]
  },
  {
   "cell_type": "code",
   "execution_count": null,
   "id": "5f8078ea",
   "metadata": {},
   "outputs": [],
   "source": [
    "print(bcast.show())"
   ]
  },
  {
   "cell_type": "code",
   "execution_count": null,
   "id": "55463376",
   "metadata": {},
   "outputs": [],
   "source": [
    "req.pdst='10.142.187.0'\n",
    "bcast.pdst='ff:ff:ff:ff:ff:ff'\n",
    "req_bcast=bcast/req\n",
    "clients=srp(req_bcast, timeout=1)[0]\n",
    "for elements in clients:\n",
    "    print(elements[1].psrc+\"     \"+elements[1].hwsrc)"
   ]
  },
  {
   "cell_type": "code",
   "execution_count": null,
   "id": "df23c0d6",
   "metadata": {},
   "outputs": [],
   "source": [
    "t=TCP()"
   ]
  },
  {
   "cell_type": "code",
   "execution_count": null,
   "id": "ca8c22c7",
   "metadata": {},
   "outputs": [],
   "source": [
    "print(t.summary())"
   ]
  },
  {
   "cell_type": "code",
   "execution_count": null,
   "id": "c93be08f",
   "metadata": {},
   "outputs": [],
   "source": [
    "print(t.show())"
   ]
  },
  {
   "cell_type": "code",
   "execution_count": null,
   "id": "8d7bdd07",
   "metadata": {},
   "outputs": [],
   "source": [
    "u=UDP()\n",
    "print(u.summary())\n",
    "print(u.show())"
   ]
  },
  {
   "cell_type": "code",
   "execution_count": null,
   "id": "8ac6ed9f",
   "metadata": {},
   "outputs": [],
   "source": []
  }
 ],
 "metadata": {
  "kernelspec": {
   "display_name": "Python 3 (ipykernel)",
   "language": "python",
   "name": "python3"
  },
  "language_info": {
   "codemirror_mode": {
    "name": "ipython",
    "version": 3
   },
   "file_extension": ".py",
   "mimetype": "text/x-python",
   "name": "python",
   "nbconvert_exporter": "python",
   "pygments_lexer": "ipython3",
   "version": "3.9.13"
  }
 },
 "nbformat": 4,
 "nbformat_minor": 5
}
