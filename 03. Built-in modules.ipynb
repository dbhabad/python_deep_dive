{
 "cells": [
  {
   "cell_type": "markdown",
   "id": "a0f6b05b",
   "metadata": {},
   "source": [
    "# Math Module"
   ]
  },
  {
   "cell_type": "code",
   "execution_count": 2,
   "id": "4c94ba3e",
   "metadata": {},
   "outputs": [],
   "source": [
    "import math"
   ]
  },
  {
   "cell_type": "code",
   "execution_count": 8,
   "id": "454a885f",
   "metadata": {},
   "outputs": [
    {
     "name": "stdout",
     "output_type": "stream",
     "text": [
      "5\n",
      "5\n",
      "5\n"
     ]
    }
   ],
   "source": [
    "print(math.floor(5.1))\n",
    "print(math.floor(5.5))\n",
    "print(math.floor(5.9))"
   ]
  },
  {
   "cell_type": "code",
   "execution_count": 3,
   "id": "ecab4256",
   "metadata": {},
   "outputs": [
    {
     "name": "stdout",
     "output_type": "stream",
     "text": [
      "11\n",
      "11\n",
      "11\n"
     ]
    }
   ],
   "source": [
    "# ceil()\n",
    "\n",
    "print(math.ceil(10.9))\n",
    "print(math.ceil(10.1))\n",
    "print(math.ceil(10.5))"
   ]
  },
  {
   "cell_type": "code",
   "execution_count": 6,
   "id": "37ac5753",
   "metadata": {},
   "outputs": [
    {
     "name": "stdout",
     "output_type": "stream",
     "text": [
      "10.5\n"
     ]
    }
   ],
   "source": [
    "print(math.fabs(-10.5))"
   ]
  },
  {
   "cell_type": "code",
   "execution_count": 7,
   "id": "69572141",
   "metadata": {},
   "outputs": [
    {
     "name": "stdout",
     "output_type": "stream",
     "text": [
      "120\n",
      "3628800\n"
     ]
    }
   ],
   "source": [
    "print(math.factorial(5))\n",
    "print(math.factorial(10))"
   ]
  },
  {
   "cell_type": "code",
   "execution_count": 9,
   "id": "124888de",
   "metadata": {},
   "outputs": [
    {
     "name": "stdout",
     "output_type": "stream",
     "text": [
      "0.0\n",
      "1.0\n",
      "2.0\n"
     ]
    }
   ],
   "source": [
    "print(math.fmod(10, 2))\n",
    "print(math.fmod(10, 3))\n",
    "print(math.fmod(10, 4))"
   ]
  },
  {
   "cell_type": "code",
   "execution_count": 10,
   "id": "534f5767",
   "metadata": {},
   "outputs": [
    {
     "name": "stdout",
     "output_type": "stream",
     "text": [
      "127.0\n",
      "1.0\n",
      "0.9999999999999999\n"
     ]
    }
   ],
   "source": [
    "print(math.fsum([1,2,3,4,5,6,7,89,10]))\n",
    "print(math.fsum([.1,.1,.1,.1,.1,.1,.1,.1,.1,.1]))\n",
    "print(sum([.1,.1,.1,.1,.1,.1,.1,.1,.1,.1]))"
   ]
  },
  {
   "cell_type": "code",
   "execution_count": 11,
   "id": "706a647e",
   "metadata": {},
   "outputs": [
    {
     "name": "stdout",
     "output_type": "stream",
     "text": [
      "5\n"
     ]
    }
   ],
   "source": [
    "print(math.gcd(35, 1000))"
   ]
  },
  {
   "cell_type": "code",
   "execution_count": 12,
   "id": "78ef5644",
   "metadata": {},
   "outputs": [
    {
     "name": "stdout",
     "output_type": "stream",
     "text": [
      "7000\n"
     ]
    }
   ],
   "source": [
    "print(math.lcm(35, 1000))"
   ]
  },
  {
   "cell_type": "code",
   "execution_count": 24,
   "id": "991a2a55",
   "metadata": {},
   "outputs": [
    {
     "data": {
      "text/plain": [
       "[10, 5]"
      ]
     },
     "execution_count": 24,
     "metadata": {},
     "output_type": "execute_result"
    }
   ],
   "source": [
    "math.isqrt(10)\n",
    "\n",
    "l1 = [100, 200, 25, 90, 'abc']\n",
    "l2 = [math.isqrt(val) for val in l1 if isinstance(val, int) and val  == math.isqrt(val) **2]\n",
    "l2"
   ]
  },
  {
   "cell_type": "code",
   "execution_count": 25,
   "id": "8cf536c6",
   "metadata": {},
   "outputs": [
    {
     "name": "stdout",
     "output_type": "stream",
     "text": [
      "0.0\n",
      "2.0\n"
     ]
    }
   ],
   "source": [
    "print(math.remainder(10, 5))\n",
    "print(math.remainder(10, 4))"
   ]
  },
  {
   "cell_type": "code",
   "execution_count": 28,
   "id": "62552ef3",
   "metadata": {},
   "outputs": [
    {
     "name": "stdout",
     "output_type": "stream",
     "text": [
      "10\n",
      "10\n",
      "10\n"
     ]
    }
   ],
   "source": [
    "print(math.trunc(10.111))\n",
    "print(math.trunc(10.5))\n",
    "print(math.trunc(10.9))"
   ]
  },
  {
   "cell_type": "code",
   "execution_count": 31,
   "id": "5f945310",
   "metadata": {},
   "outputs": [
    {
     "name": "stdout",
     "output_type": "stream",
     "text": [
      "True\n",
      "False\n"
     ]
    }
   ],
   "source": [
    "print(math.isnan(math.nan))\n",
    "print(math.isnan(10))"
   ]
  },
  {
   "cell_type": "markdown",
   "id": "587f94b6",
   "metadata": {},
   "source": [
    "# Datetime module"
   ]
  },
  {
   "cell_type": "code",
   "execution_count": 32,
   "id": "b918f8a5",
   "metadata": {},
   "outputs": [],
   "source": [
    "import datetime as dt\n",
    "import time"
   ]
  },
  {
   "cell_type": "code",
   "execution_count": 33,
   "id": "84b7cb88",
   "metadata": {},
   "outputs": [
    {
     "name": "stdout",
     "output_type": "stream",
     "text": [
      "2023-04-01\n",
      "<class 'datetime.date'>\n"
     ]
    }
   ],
   "source": [
    "d = dt.date(2023, 4, 1)\n",
    "print(d)\n",
    "print(type(d))"
   ]
  },
  {
   "cell_type": "code",
   "execution_count": 34,
   "id": "315733e6",
   "metadata": {},
   "outputs": [
    {
     "name": "stdout",
     "output_type": "stream",
     "text": [
      "2023-04-17\n"
     ]
    }
   ],
   "source": [
    "print(dt.date.today())"
   ]
  },
  {
   "cell_type": "code",
   "execution_count": 43,
   "id": "3e6bba89",
   "metadata": {},
   "outputs": [
    {
     "name": "stdout",
     "output_type": "stream",
     "text": [
      "1681733740.875937\n",
      "<class 'float'>\n"
     ]
    }
   ],
   "source": [
    "t = time.time()\n",
    "print(t)\n",
    "print(type(t))"
   ]
  },
  {
   "cell_type": "code",
   "execution_count": 44,
   "id": "b538be92",
   "metadata": {},
   "outputs": [
    {
     "name": "stdout",
     "output_type": "stream",
     "text": [
      "2023-04-17\n",
      "<class 'datetime.date'>\n"
     ]
    }
   ],
   "source": [
    "d = dt.date.fromtimestamp(t)\n",
    "print(d)\n",
    "print(type(d))\n"
   ]
  },
  {
   "cell_type": "code",
   "execution_count": 45,
   "id": "25a95f8b",
   "metadata": {},
   "outputs": [
    {
     "data": {
      "text/plain": [
       "17"
      ]
     },
     "execution_count": 45,
     "metadata": {},
     "output_type": "execute_result"
    }
   ],
   "source": [
    "d.day"
   ]
  },
  {
   "cell_type": "code",
   "execution_count": 46,
   "id": "78220d6b",
   "metadata": {},
   "outputs": [
    {
     "data": {
      "text/plain": [
       "4"
      ]
     },
     "execution_count": 46,
     "metadata": {},
     "output_type": "execute_result"
    }
   ],
   "source": [
    "d.month"
   ]
  },
  {
   "cell_type": "code",
   "execution_count": 47,
   "id": "a332bf18",
   "metadata": {},
   "outputs": [
    {
     "data": {
      "text/plain": [
       "2023"
      ]
     },
     "execution_count": 47,
     "metadata": {},
     "output_type": "execute_result"
    }
   ],
   "source": [
    "d.year"
   ]
  },
  {
   "cell_type": "code",
   "execution_count": 48,
   "id": "a542f20d",
   "metadata": {},
   "outputs": [
    {
     "name": "stdout",
     "output_type": "stream",
     "text": [
      "738627\n"
     ]
    }
   ],
   "source": [
    "ord = d.toordinal()\n",
    "print(ord)"
   ]
  },
  {
   "cell_type": "code",
   "execution_count": 49,
   "id": "bf35b0a1",
   "metadata": {},
   "outputs": [
    {
     "name": "stdout",
     "output_type": "stream",
     "text": [
      "2023-04-17\n"
     ]
    }
   ],
   "source": [
    "d = dt.date.fromordinal(ord)\n",
    "print(d)"
   ]
  },
  {
   "cell_type": "code",
   "execution_count": 50,
   "id": "87f03ff1",
   "metadata": {},
   "outputs": [
    {
     "data": {
      "text/plain": [
       "0"
      ]
     },
     "execution_count": 50,
     "metadata": {},
     "output_type": "execute_result"
    }
   ],
   "source": [
    "d.weekday() # monday as 0 and sunday as 6"
   ]
  },
  {
   "cell_type": "code",
   "execution_count": 51,
   "id": "00a184eb",
   "metadata": {},
   "outputs": [
    {
     "data": {
      "text/plain": [
       "1"
      ]
     },
     "execution_count": 51,
     "metadata": {},
     "output_type": "execute_result"
    }
   ],
   "source": [
    "d.isoweekday()# monday is 1 and sunday is 7"
   ]
  },
  {
   "cell_type": "code",
   "execution_count": 52,
   "id": "01522c9b",
   "metadata": {},
   "outputs": [
    {
     "data": {
      "text/plain": [
       "datetime.IsoCalendarDate(year=2023, week=16, weekday=1)"
      ]
     },
     "execution_count": 52,
     "metadata": {},
     "output_type": "execute_result"
    }
   ],
   "source": [
    "d.isocalendar()"
   ]
  },
  {
   "cell_type": "code",
   "execution_count": 53,
   "id": "ca436507",
   "metadata": {},
   "outputs": [
    {
     "name": "stdout",
     "output_type": "stream",
     "text": [
      "2023-04-17 17:55:48.737474\n"
     ]
    }
   ],
   "source": [
    "print(dt.datetime.today())"
   ]
  },
  {
   "cell_type": "code",
   "execution_count": 58,
   "id": "cd0f4d09",
   "metadata": {},
   "outputs": [
    {
     "name": "stdout",
     "output_type": "stream",
     "text": [
      "2023-04-17 18:01:42.512864\n"
     ]
    }
   ],
   "source": [
    "print(dt.datetime.now())"
   ]
  },
  {
   "cell_type": "code",
   "execution_count": 59,
   "id": "3b03bf24",
   "metadata": {},
   "outputs": [
    {
     "name": "stdout",
     "output_type": "stream",
     "text": [
      "2023-04-17 12:31:42.674589\n"
     ]
    }
   ],
   "source": [
    "print(dt.datetime.utcnow())"
   ]
  },
  {
   "cell_type": "code",
   "execution_count": 68,
   "id": "18c86d64",
   "metadata": {},
   "outputs": [
    {
     "name": "stdout",
     "output_type": "stream",
     "text": [
      "17-Apr-2023\n"
     ]
    }
   ],
   "source": [
    "str_dt = d.strftime('%d-%b-%Y')\n",
    "print(str_dt)"
   ]
  },
  {
   "cell_type": "code",
   "execution_count": 69,
   "id": "ccbdf7fa",
   "metadata": {},
   "outputs": [
    {
     "name": "stdout",
     "output_type": "stream",
     "text": [
      "2023-04-17 00:00:00\n",
      "<class 'datetime.datetime'>\n"
     ]
    }
   ],
   "source": [
    "d = dt.datetime.strptime(str_dt, '%d-%b-%Y')\n",
    "print(d)\n",
    "print(type(d))"
   ]
  },
  {
   "cell_type": "code",
   "execution_count": 72,
   "id": "db3c5c33",
   "metadata": {},
   "outputs": [
    {
     "name": "stdout",
     "output_type": "stream",
     "text": [
      "2023\n",
      "4\n",
      "17\n",
      "18\n",
      "11\n",
      "41\n",
      "491279\n"
     ]
    }
   ],
   "source": [
    "d = dt.datetime.now()\n",
    "print(d.year)\n",
    "print(d.month)\n",
    "print(d.day)\n",
    "print(d.hour)\n",
    "print(d.minute)\n",
    "print(d.second)\n",
    "print(d.microsecond)"
   ]
  },
  {
   "cell_type": "code",
   "execution_count": 73,
   "id": "9c2ea6ee",
   "metadata": {},
   "outputs": [
    {
     "data": {
      "text/plain": [
       "datetime.date(2023, 4, 17)"
      ]
     },
     "execution_count": 73,
     "metadata": {},
     "output_type": "execute_result"
    }
   ],
   "source": [
    "d.date()"
   ]
  },
  {
   "cell_type": "code",
   "execution_count": 74,
   "id": "92e1328b",
   "metadata": {},
   "outputs": [
    {
     "data": {
      "text/plain": [
       "datetime.time(18, 11, 41, 491279)"
      ]
     },
     "execution_count": 74,
     "metadata": {},
     "output_type": "execute_result"
    }
   ],
   "source": [
    "d.time()"
   ]
  },
  {
   "cell_type": "code",
   "execution_count": 75,
   "id": "45a8cc87",
   "metadata": {},
   "outputs": [
    {
     "data": {
      "text/plain": [
       "738627"
      ]
     },
     "execution_count": 75,
     "metadata": {},
     "output_type": "execute_result"
    }
   ],
   "source": [
    "d.toordinal()"
   ]
  },
  {
   "cell_type": "code",
   "execution_count": 76,
   "id": "054fb01e",
   "metadata": {},
   "outputs": [
    {
     "data": {
      "text/plain": [
       "1681735301.491279"
      ]
     },
     "execution_count": 76,
     "metadata": {},
     "output_type": "execute_result"
    }
   ],
   "source": [
    "d.timestamp()"
   ]
  },
  {
   "cell_type": "code",
   "execution_count": null,
   "id": "8863a261",
   "metadata": {},
   "outputs": [],
   "source": []
  }
 ],
 "metadata": {
  "kernelspec": {
   "display_name": "Python 3 (ipykernel)",
   "language": "python",
   "name": "python3"
  },
  "language_info": {
   "codemirror_mode": {
    "name": "ipython",
    "version": 3
   },
   "file_extension": ".py",
   "mimetype": "text/x-python",
   "name": "python",
   "nbconvert_exporter": "python",
   "pygments_lexer": "ipython3",
   "version": "3.9.13"
  }
 },
 "nbformat": 4,
 "nbformat_minor": 5
}
